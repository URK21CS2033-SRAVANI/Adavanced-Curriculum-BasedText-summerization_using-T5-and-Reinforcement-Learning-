{
 "cells": [
  {
   "cell_type": "code",
   "execution_count": 1,
   "id": "578c19ea-b2ec-41c4-b1fc-b961c57ee664",
   "metadata": {},
   "outputs": [
    {
     "data": {
      "application/vnd.jupyter.widget-view+json": {
       "model_id": "f51ed533061e468093a6c28ad4999bd2",
       "version_major": 2,
       "version_minor": 0
      },
      "text/plain": [
       "tokenizer_config.json:   0%|          | 0.00/2.32k [00:00<?, ?B/s]"
      ]
     },
     "metadata": {},
     "output_type": "display_data"
    },
    {
     "data": {
      "application/vnd.jupyter.widget-view+json": {
       "model_id": "629c85cca1e54b13bba7408efda6c14c",
       "version_major": 2,
       "version_minor": 0
      },
      "text/plain": [
       "spiece.model:   0%|          | 0.00/792k [00:00<?, ?B/s]"
      ]
     },
     "metadata": {},
     "output_type": "display_data"
    },
    {
     "data": {
      "application/vnd.jupyter.widget-view+json": {
       "model_id": "ac980fa401f14b5d84e94e9d24bcfd70",
       "version_major": 2,
       "version_minor": 0
      },
      "text/plain": [
       "tokenizer.json:   0%|          | 0.00/1.39M [00:00<?, ?B/s]"
      ]
     },
     "metadata": {},
     "output_type": "display_data"
    },
    {
     "name": "stderr",
     "output_type": "stream",
     "text": [
      "You are using the default legacy behaviour of the <class 'transformers.models.t5.tokenization_t5.T5Tokenizer'>. This is expected, and simply means that the `legacy` (previous) behavior will be used so nothing changes for you. If you want to use the new behaviour, set `legacy=False`. This should only be set if you understand what it means, and thoroughly read the reason why this was added as explained in https://github.com/huggingface/transformers/pull/24565\n",
      "Special tokens have been added in the vocabulary, make sure the associated word embeddings are fine-tuned or trained.\n"
     ]
    }
   ],
   "source": [
    "from transformers import T5ForConditionalGeneration, T5Tokenizer\n",
    "\n",
    "# Load the trained model\n",
    "model = T5ForConditionalGeneration.from_pretrained(r\"C:\\easy_5epochs\")\n",
    "\n",
    "# Load the tokenizer\n",
    "tokenizer = T5Tokenizer.from_pretrained(\"t5-small\")\n",
    "\n"
   ]
  },
  {
   "cell_type": "code",
   "execution_count": 2,
   "id": "57cee957-95e9-447e-9782-e6720b35bd9d",
   "metadata": {},
   "outputs": [],
   "source": [
    "# Example input text\n",
    "input_text = \"Denisse Rudich, Senior Policy Advisor at The Sentry, said: “Following the publication of the supplemental business advisory by the US Government, banks in the US and abroad, particularly in countries such as in Singapore, Thailand, and the UAE should monitor transactions to stop the flow of funds suspected of being linked to the military junta and carry out enhanced due diligence. They should engage with their correspondent banking networks, taking measures to prevent de-risking and ensure that humanitarian aid organizations, civilians, and essential sectors of the economy maintain unhindered access to the international financial system. Oliver Windridge, Director of Illicit Finance Policy at The Sentry, said: “We welcome the supplemental advisory on Burma by the US Government. It complements the continued targeted sanctions policy adopted by the US to constrain and contain the Myanmar junta by restricting access to funds that finance its brutal war on the people of Myanmar. Targeted sanctions will not solve the crisis in the country on their own, but as essential financial tools of pressure, they must be wielded by the US and its like-minded partners in a coordinated manner and against networks of enablers to enhance their effectiveness. In addition to sanctions, the advisory identifies high-risk business sectors that companies will want to stay clear of to prevent their potential complicity in the atrocities of the Myanmar junta. It nevertheless encourages legitimate and responsible trade and investment flows that benefit the Myanmar population.Yadanar Maung, Justice For Myanmar spokesperson, said: “It is positive that the US is continuing to advise companies in Myanmar to act responsibly and avoid key sectors that provide the junta with funds and resources that it needs to commit atrocities. However, this advice needs to be urgently backed up with more targeted sanctions by the US in coordination with its allies, including Australia, which remains exposed to Myanmar’s mining sector. There still are too many gaps in the sanctions that have been imposed and a large number of businesses and individuals that remain unsanctioned, despite evidence of complicity in the junta’s international crimes.\"\n",
    "\n"
   ]
  },
  {
   "cell_type": "code",
   "execution_count": 3,
   "id": "a5540d0b-3192-44b1-a5b0-51f0740fbbae",
   "metadata": {},
   "outputs": [
    {
     "name": "stdout",
     "output_type": "stream",
     "text": [
      "Generated Summary: the supplemental business advisory by the u.s. government, banks in the us and abroad, particularly in countries such as in Singapore, Thailand, and the UAE, should monitor transactions to stop the flow of funds suspected of being linked to the military junta and carry out enhanced due diligence. the advisory complements the continued targeted sanctions policy adopted by the US to constrain and contain the Myanmar junta by restricting access to funds that finance its brutal war on the people of Myanmar.\n"
     ]
    }
   ],
   "source": [
    "# Tokenize the input text\n",
    "inputs = tokenizer(\"summarize: \" + input_text, return_tensors=\"pt\", max_length=512, truncation=True)\n",
    "\n",
    "# Generate summary\n",
    "outputs = model.generate(input_ids=inputs[\"input_ids\"], attention_mask=inputs[\"attention_mask\"], max_length=150, num_beams=4, early_stopping=True)\n",
    "\n",
    "# Decode the output tokens into text\n",
    "summary = tokenizer.decode(outputs[0], skip_special_tokens=True)\n",
    "\n",
    "print(\"Generated Summary:\", summary)\n"
   ]
  },
  {
   "cell_type": "code",
   "execution_count": null,
   "id": "f1a7561f-3b2d-4fe9-a0f3-2d17c344c051",
   "metadata": {},
   "outputs": [],
   "source": []
  }
 ],
 "metadata": {
  "kernelspec": {
   "display_name": "Python 3 (ipykernel)",
   "language": "python",
   "name": "python3"
  },
  "language_info": {
   "codemirror_mode": {
    "name": "ipython",
    "version": 3
   },
   "file_extension": ".py",
   "mimetype": "text/x-python",
   "name": "python",
   "nbconvert_exporter": "python",
   "pygments_lexer": "ipython3",
   "version": "3.11.7"
  }
 },
 "nbformat": 4,
 "nbformat_minor": 5
}
